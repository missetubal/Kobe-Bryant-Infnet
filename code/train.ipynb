{
 "cells": [
  {
   "cell_type": "code",
   "execution_count": 24,
   "metadata": {},
   "outputs": [],
   "source": [
    "from pycaret.classification import predict_model, get_config \n",
    "from mlflow import MlflowClient\n",
    "from mlflow.models import infer_signature\n",
    "from sklearn.metrics import log_loss, f1_score, roc_curve, auc\n",
    "from sklearn.metrics import confusion_matrix, ConfusionMatrixDisplay\n",
    "import mlflow\n",
    "import matplotlib.pyplot as plt\n",
    "import utils\n",
    "import pandas as pd\n",
    "import pycaret.classification as pc \n",
    "\n"
   ]
  },
  {
   "cell_type": "code",
   "execution_count": 7,
   "metadata": {},
   "outputs": [],
   "source": [
    "output_dir = \"../data/processed\"\n",
    "ds_train = \"/base_train.parquet\"\n",
    "ds_test = \"/base_test.parquet\"\n",
    "\n",
    "mlflow_url = \"sqlite:///mlruns.db\"\n",
    "experiment_name = \"PipelineTreinamento\"\n"
   ]
  },
  {
   "cell_type": "code",
   "execution_count": 5,
   "metadata": {},
   "outputs": [],
   "source": [
    "df_train = pd.read_parquet(output_dir+ds_train)\n",
    "df_test = pd.read_parquet(output_dir+ds_test)"
   ]
  },
  {
   "cell_type": "code",
   "execution_count": 8,
   "metadata": {},
   "outputs": [],
   "source": [
    "mlflow.set_tracking_uri(mlflow_url)\n",
    "if not mlflow.get_experiment_by_name(experiment_name):\n",
    "    mlflow.create_experiment(experiment_name)"
   ]
  },
  {
   "cell_type": "code",
   "execution_count": 9,
   "metadata": {},
   "outputs": [
    {
     "data": {
      "text/html": [
       "<style type=\"text/css\">\n",
       "</style>\n",
       "<table id=\"T_e3102\">\n",
       "  <thead>\n",
       "    <tr>\n",
       "      <th class=\"blank level0\" >&nbsp;</th>\n",
       "      <th id=\"T_e3102_level0_col0\" class=\"col_heading level0 col0\" >Description</th>\n",
       "      <th id=\"T_e3102_level0_col1\" class=\"col_heading level0 col1\" >Value</th>\n",
       "    </tr>\n",
       "  </thead>\n",
       "  <tbody>\n",
       "    <tr>\n",
       "      <th id=\"T_e3102_level0_row0\" class=\"row_heading level0 row0\" >0</th>\n",
       "      <td id=\"T_e3102_row0_col0\" class=\"data row0 col0\" >Session id</td>\n",
       "      <td id=\"T_e3102_row0_col1\" class=\"data row0 col1\" >1</td>\n",
       "    </tr>\n",
       "    <tr>\n",
       "      <th id=\"T_e3102_level0_row1\" class=\"row_heading level0 row1\" >1</th>\n",
       "      <td id=\"T_e3102_row1_col0\" class=\"data row1 col0\" >Target</td>\n",
       "      <td id=\"T_e3102_row1_col1\" class=\"data row1 col1\" >shot_made_flag</td>\n",
       "    </tr>\n",
       "    <tr>\n",
       "      <th id=\"T_e3102_level0_row2\" class=\"row_heading level0 row2\" >2</th>\n",
       "      <td id=\"T_e3102_row2_col0\" class=\"data row2 col0\" >Target type</td>\n",
       "      <td id=\"T_e3102_row2_col1\" class=\"data row2 col1\" >Binary</td>\n",
       "    </tr>\n",
       "    <tr>\n",
       "      <th id=\"T_e3102_level0_row3\" class=\"row_heading level0 row3\" >3</th>\n",
       "      <td id=\"T_e3102_row3_col0\" class=\"data row3 col0\" >Original data shape</td>\n",
       "      <td id=\"T_e3102_row3_col1\" class=\"data row3 col1\" >(20285, 7)</td>\n",
       "    </tr>\n",
       "    <tr>\n",
       "      <th id=\"T_e3102_level0_row4\" class=\"row_heading level0 row4\" >4</th>\n",
       "      <td id=\"T_e3102_row4_col0\" class=\"data row4 col0\" >Transformed data shape</td>\n",
       "      <td id=\"T_e3102_row4_col1\" class=\"data row4 col1\" >(20285, 7)</td>\n",
       "    </tr>\n",
       "    <tr>\n",
       "      <th id=\"T_e3102_level0_row5\" class=\"row_heading level0 row5\" >5</th>\n",
       "      <td id=\"T_e3102_row5_col0\" class=\"data row5 col0\" >Transformed train set shape</td>\n",
       "      <td id=\"T_e3102_row5_col1\" class=\"data row5 col1\" >(16228, 7)</td>\n",
       "    </tr>\n",
       "    <tr>\n",
       "      <th id=\"T_e3102_level0_row6\" class=\"row_heading level0 row6\" >6</th>\n",
       "      <td id=\"T_e3102_row6_col0\" class=\"data row6 col0\" >Transformed test set shape</td>\n",
       "      <td id=\"T_e3102_row6_col1\" class=\"data row6 col1\" >(4057, 7)</td>\n",
       "    </tr>\n",
       "    <tr>\n",
       "      <th id=\"T_e3102_level0_row7\" class=\"row_heading level0 row7\" >7</th>\n",
       "      <td id=\"T_e3102_row7_col0\" class=\"data row7 col0\" >Numeric features</td>\n",
       "      <td id=\"T_e3102_row7_col1\" class=\"data row7 col1\" >6</td>\n",
       "    </tr>\n",
       "  </tbody>\n",
       "</table>\n"
      ],
      "text/plain": [
       "<pandas.io.formats.style.Styler at 0x1ab89443c40>"
      ]
     },
     "metadata": {},
     "output_type": "display_data"
    }
   ],
   "source": [
    "setup = pc.setup(data=df_train, test_data=df_test, target=\"shot_made_flag\", preprocess= False, normalize=False, session_id=1 )"
   ]
  },
  {
   "cell_type": "code",
   "execution_count": 10,
   "metadata": {},
   "outputs": [
    {
     "data": {
      "text/html": [],
      "text/plain": [
       "<IPython.core.display.HTML object>"
      ]
     },
     "metadata": {},
     "output_type": "display_data"
    },
    {
     "data": {
      "text/html": [
       "<style type=\"text/css\">\n",
       "#T_11950_row10_col0, #T_11950_row10_col1, #T_11950_row10_col2, #T_11950_row10_col3, #T_11950_row10_col4, #T_11950_row10_col5, #T_11950_row10_col6 {\n",
       "  background: yellow;\n",
       "}\n",
       "</style>\n",
       "<table id=\"T_11950\">\n",
       "  <thead>\n",
       "    <tr>\n",
       "      <th class=\"blank level0\" >&nbsp;</th>\n",
       "      <th id=\"T_11950_level0_col0\" class=\"col_heading level0 col0\" >Accuracy</th>\n",
       "      <th id=\"T_11950_level0_col1\" class=\"col_heading level0 col1\" >AUC</th>\n",
       "      <th id=\"T_11950_level0_col2\" class=\"col_heading level0 col2\" >Recall</th>\n",
       "      <th id=\"T_11950_level0_col3\" class=\"col_heading level0 col3\" >Prec.</th>\n",
       "      <th id=\"T_11950_level0_col4\" class=\"col_heading level0 col4\" >F1</th>\n",
       "      <th id=\"T_11950_level0_col5\" class=\"col_heading level0 col5\" >Kappa</th>\n",
       "      <th id=\"T_11950_level0_col6\" class=\"col_heading level0 col6\" >MCC</th>\n",
       "    </tr>\n",
       "    <tr>\n",
       "      <th class=\"index_name level0\" >Fold</th>\n",
       "      <th class=\"blank col0\" >&nbsp;</th>\n",
       "      <th class=\"blank col1\" >&nbsp;</th>\n",
       "      <th class=\"blank col2\" >&nbsp;</th>\n",
       "      <th class=\"blank col3\" >&nbsp;</th>\n",
       "      <th class=\"blank col4\" >&nbsp;</th>\n",
       "      <th class=\"blank col5\" >&nbsp;</th>\n",
       "      <th class=\"blank col6\" >&nbsp;</th>\n",
       "    </tr>\n",
       "  </thead>\n",
       "  <tbody>\n",
       "    <tr>\n",
       "      <th id=\"T_11950_level0_row0\" class=\"row_heading level0 row0\" >0</th>\n",
       "      <td id=\"T_11950_row0_col0\" class=\"data row0 col0\" >0.5835</td>\n",
       "      <td id=\"T_11950_row0_col1\" class=\"data row0 col1\" >0.6099</td>\n",
       "      <td id=\"T_11950_row0_col2\" class=\"data row0 col2\" >0.5052</td>\n",
       "      <td id=\"T_11950_row0_col3\" class=\"data row0 col3\" >0.5716</td>\n",
       "      <td id=\"T_11950_row0_col4\" class=\"data row0 col4\" >0.5364</td>\n",
       "      <td id=\"T_11950_row0_col5\" class=\"data row0 col5\" >0.1609</td>\n",
       "      <td id=\"T_11950_row0_col6\" class=\"data row0 col6\" >0.1619</td>\n",
       "    </tr>\n",
       "    <tr>\n",
       "      <th id=\"T_11950_level0_row1\" class=\"row_heading level0 row1\" >1</th>\n",
       "      <td id=\"T_11950_row1_col0\" class=\"data row1 col0\" >0.5829</td>\n",
       "      <td id=\"T_11950_row1_col1\" class=\"data row1 col1\" >0.6077</td>\n",
       "      <td id=\"T_11950_row1_col2\" class=\"data row1 col2\" >0.5220</td>\n",
       "      <td id=\"T_11950_row1_col3\" class=\"data row1 col3\" >0.5682</td>\n",
       "      <td id=\"T_11950_row1_col4\" class=\"data row1 col4\" >0.5441</td>\n",
       "      <td id=\"T_11950_row1_col5\" class=\"data row1 col5\" >0.1609</td>\n",
       "      <td id=\"T_11950_row1_col6\" class=\"data row1 col6\" >0.1614</td>\n",
       "    </tr>\n",
       "    <tr>\n",
       "      <th id=\"T_11950_level0_row2\" class=\"row_heading level0 row2\" >2</th>\n",
       "      <td id=\"T_11950_row2_col0\" class=\"data row2 col0\" >0.5786</td>\n",
       "      <td id=\"T_11950_row2_col1\" class=\"data row2 col1\" >0.6039</td>\n",
       "      <td id=\"T_11950_row2_col2\" class=\"data row2 col2\" >0.5032</td>\n",
       "      <td id=\"T_11950_row2_col3\" class=\"data row2 col3\" >0.5660</td>\n",
       "      <td id=\"T_11950_row2_col4\" class=\"data row2 col4\" >0.5328</td>\n",
       "      <td id=\"T_11950_row2_col5\" class=\"data row2 col5\" >0.1514</td>\n",
       "      <td id=\"T_11950_row2_col6\" class=\"data row2 col6\" >0.1522</td>\n",
       "    </tr>\n",
       "    <tr>\n",
       "      <th id=\"T_11950_level0_row3\" class=\"row_heading level0 row3\" >3</th>\n",
       "      <td id=\"T_11950_row3_col0\" class=\"data row3 col0\" >0.5786</td>\n",
       "      <td id=\"T_11950_row3_col1\" class=\"data row3 col1\" >0.5852</td>\n",
       "      <td id=\"T_11950_row3_col2\" class=\"data row3 col2\" >0.4968</td>\n",
       "      <td id=\"T_11950_row3_col3\" class=\"data row3 col3\" >0.5670</td>\n",
       "      <td id=\"T_11950_row3_col4\" class=\"data row3 col4\" >0.5296</td>\n",
       "      <td id=\"T_11950_row3_col5\" class=\"data row3 col5\" >0.1509</td>\n",
       "      <td id=\"T_11950_row3_col6\" class=\"data row3 col6\" >0.1520</td>\n",
       "    </tr>\n",
       "    <tr>\n",
       "      <th id=\"T_11950_level0_row4\" class=\"row_heading level0 row4\" >4</th>\n",
       "      <td id=\"T_11950_row4_col0\" class=\"data row4 col0\" >0.5847</td>\n",
       "      <td id=\"T_11950_row4_col1\" class=\"data row4 col1\" >0.6075</td>\n",
       "      <td id=\"T_11950_row4_col2\" class=\"data row4 col2\" >0.4723</td>\n",
       "      <td id=\"T_11950_row4_col3\" class=\"data row4 col3\" >0.5800</td>\n",
       "      <td id=\"T_11950_row4_col4\" class=\"data row4 col4\" >0.5206</td>\n",
       "      <td id=\"T_11950_row4_col5\" class=\"data row4 col5\" >0.1610</td>\n",
       "      <td id=\"T_11950_row4_col6\" class=\"data row4 col6\" >0.1637</td>\n",
       "    </tr>\n",
       "    <tr>\n",
       "      <th id=\"T_11950_level0_row5\" class=\"row_heading level0 row5\" >5</th>\n",
       "      <td id=\"T_11950_row5_col0\" class=\"data row5 col0\" >0.5705</td>\n",
       "      <td id=\"T_11950_row5_col1\" class=\"data row5 col1\" >0.5958</td>\n",
       "      <td id=\"T_11950_row5_col2\" class=\"data row5 col2\" >0.4865</td>\n",
       "      <td id=\"T_11950_row5_col3\" class=\"data row5 col3\" >0.5577</td>\n",
       "      <td id=\"T_11950_row5_col4\" class=\"data row5 col4\" >0.5196</td>\n",
       "      <td id=\"T_11950_row5_col5\" class=\"data row5 col5\" >0.1346</td>\n",
       "      <td id=\"T_11950_row5_col6\" class=\"data row5 col6\" >0.1356</td>\n",
       "    </tr>\n",
       "    <tr>\n",
       "      <th id=\"T_11950_level0_row6\" class=\"row_heading level0 row6\" >6</th>\n",
       "      <td id=\"T_11950_row6_col0\" class=\"data row6 col0\" >0.5508</td>\n",
       "      <td id=\"T_11950_row6_col1\" class=\"data row6 col1\" >0.5699</td>\n",
       "      <td id=\"T_11950_row6_col2\" class=\"data row6 col2\" >0.4542</td>\n",
       "      <td id=\"T_11950_row6_col3\" class=\"data row6 col3\" >0.5350</td>\n",
       "      <td id=\"T_11950_row6_col4\" class=\"data row6 col4\" >0.4913</td>\n",
       "      <td id=\"T_11950_row6_col5\" class=\"data row6 col5\" >0.0940</td>\n",
       "      <td id=\"T_11950_row6_col6\" class=\"data row6 col6\" >0.0950</td>\n",
       "    </tr>\n",
       "    <tr>\n",
       "      <th id=\"T_11950_level0_row7\" class=\"row_heading level0 row7\" >7</th>\n",
       "      <td id=\"T_11950_row7_col0\" class=\"data row7 col0\" >0.6081</td>\n",
       "      <td id=\"T_11950_row7_col1\" class=\"data row7 col1\" >0.6166</td>\n",
       "      <td id=\"T_11950_row7_col2\" class=\"data row7 col2\" >0.5123</td>\n",
       "      <td id=\"T_11950_row7_col3\" class=\"data row7 col3\" >0.6061</td>\n",
       "      <td id=\"T_11950_row7_col4\" class=\"data row7 col4\" >0.5552</td>\n",
       "      <td id=\"T_11950_row7_col5\" class=\"data row7 col5\" >0.2094</td>\n",
       "      <td id=\"T_11950_row7_col6\" class=\"data row7 col6\" >0.2118</td>\n",
       "    </tr>\n",
       "    <tr>\n",
       "      <th id=\"T_11950_level0_row8\" class=\"row_heading level0 row8\" >8</th>\n",
       "      <td id=\"T_11950_row8_col0\" class=\"data row8 col0\" >0.5771</td>\n",
       "      <td id=\"T_11950_row8_col1\" class=\"data row8 col1\" >0.6023</td>\n",
       "      <td id=\"T_11950_row8_col2\" class=\"data row8 col2\" >0.4897</td>\n",
       "      <td id=\"T_11950_row8_col3\" class=\"data row8 col3\" >0.5657</td>\n",
       "      <td id=\"T_11950_row8_col4\" class=\"data row8 col4\" >0.5249</td>\n",
       "      <td id=\"T_11950_row8_col5\" class=\"data row8 col5\" >0.1474</td>\n",
       "      <td id=\"T_11950_row8_col6\" class=\"data row8 col6\" >0.1486</td>\n",
       "    </tr>\n",
       "    <tr>\n",
       "      <th id=\"T_11950_level0_row9\" class=\"row_heading level0 row9\" >9</th>\n",
       "      <td id=\"T_11950_row9_col0\" class=\"data row9 col0\" >0.5604</td>\n",
       "      <td id=\"T_11950_row9_col1\" class=\"data row9 col1\" >0.5927</td>\n",
       "      <td id=\"T_11950_row9_col2\" class=\"data row9 col2\" >0.4457</td>\n",
       "      <td id=\"T_11950_row9_col3\" class=\"data row9 col3\" >0.5485</td>\n",
       "      <td id=\"T_11950_row9_col4\" class=\"data row9 col4\" >0.4918</td>\n",
       "      <td id=\"T_11950_row9_col5\" class=\"data row9 col5\" >0.1117</td>\n",
       "      <td id=\"T_11950_row9_col6\" class=\"data row9 col6\" >0.1136</td>\n",
       "    </tr>\n",
       "    <tr>\n",
       "      <th id=\"T_11950_level0_row10\" class=\"row_heading level0 row10\" >Mean</th>\n",
       "      <td id=\"T_11950_row10_col0\" class=\"data row10 col0\" >0.5775</td>\n",
       "      <td id=\"T_11950_row10_col1\" class=\"data row10 col1\" >0.5991</td>\n",
       "      <td id=\"T_11950_row10_col2\" class=\"data row10 col2\" >0.4888</td>\n",
       "      <td id=\"T_11950_row10_col3\" class=\"data row10 col3\" >0.5666</td>\n",
       "      <td id=\"T_11950_row10_col4\" class=\"data row10 col4\" >0.5246</td>\n",
       "      <td id=\"T_11950_row10_col5\" class=\"data row10 col5\" >0.1482</td>\n",
       "      <td id=\"T_11950_row10_col6\" class=\"data row10 col6\" >0.1496</td>\n",
       "    </tr>\n",
       "    <tr>\n",
       "      <th id=\"T_11950_level0_row11\" class=\"row_heading level0 row11\" >Std</th>\n",
       "      <td id=\"T_11950_row11_col0\" class=\"data row11 col0\" >0.0145</td>\n",
       "      <td id=\"T_11950_row11_col1\" class=\"data row11 col1\" >0.0130</td>\n",
       "      <td id=\"T_11950_row11_col2\" class=\"data row11 col2\" >0.0235</td>\n",
       "      <td id=\"T_11950_row11_col3\" class=\"data row11 col3\" >0.0178</td>\n",
       "      <td id=\"T_11950_row11_col4\" class=\"data row11 col4\" >0.0194</td>\n",
       "      <td id=\"T_11950_row11_col5\" class=\"data row11 col5\" >0.0295</td>\n",
       "      <td id=\"T_11950_row11_col6\" class=\"data row11 col6\" >0.0297</td>\n",
       "    </tr>\n",
       "  </tbody>\n",
       "</table>\n"
      ],
      "text/plain": [
       "<pandas.io.formats.style.Styler at 0x1ab89836da0>"
      ]
     },
     "metadata": {},
     "output_type": "display_data"
    },
    {
     "data": {
      "text/html": [],
      "text/plain": [
       "<IPython.core.display.HTML object>"
      ]
     },
     "metadata": {},
     "output_type": "display_data"
    },
    {
     "data": {
      "text/html": [],
      "text/plain": [
       "<IPython.core.display.HTML object>"
      ]
     },
     "metadata": {},
     "output_type": "display_data"
    },
    {
     "data": {
      "text/html": [
       "<style type=\"text/css\">\n",
       "#T_456eb_row10_col0, #T_456eb_row10_col1, #T_456eb_row10_col2, #T_456eb_row10_col3, #T_456eb_row10_col4, #T_456eb_row10_col5, #T_456eb_row10_col6 {\n",
       "  background: yellow;\n",
       "}\n",
       "</style>\n",
       "<table id=\"T_456eb\">\n",
       "  <thead>\n",
       "    <tr>\n",
       "      <th class=\"blank level0\" >&nbsp;</th>\n",
       "      <th id=\"T_456eb_level0_col0\" class=\"col_heading level0 col0\" >Accuracy</th>\n",
       "      <th id=\"T_456eb_level0_col1\" class=\"col_heading level0 col1\" >AUC</th>\n",
       "      <th id=\"T_456eb_level0_col2\" class=\"col_heading level0 col2\" >Recall</th>\n",
       "      <th id=\"T_456eb_level0_col3\" class=\"col_heading level0 col3\" >Prec.</th>\n",
       "      <th id=\"T_456eb_level0_col4\" class=\"col_heading level0 col4\" >F1</th>\n",
       "      <th id=\"T_456eb_level0_col5\" class=\"col_heading level0 col5\" >Kappa</th>\n",
       "      <th id=\"T_456eb_level0_col6\" class=\"col_heading level0 col6\" >MCC</th>\n",
       "    </tr>\n",
       "    <tr>\n",
       "      <th class=\"index_name level0\" >Fold</th>\n",
       "      <th class=\"blank col0\" >&nbsp;</th>\n",
       "      <th class=\"blank col1\" >&nbsp;</th>\n",
       "      <th class=\"blank col2\" >&nbsp;</th>\n",
       "      <th class=\"blank col3\" >&nbsp;</th>\n",
       "      <th class=\"blank col4\" >&nbsp;</th>\n",
       "      <th class=\"blank col5\" >&nbsp;</th>\n",
       "      <th class=\"blank col6\" >&nbsp;</th>\n",
       "    </tr>\n",
       "  </thead>\n",
       "  <tbody>\n",
       "    <tr>\n",
       "      <th id=\"T_456eb_level0_row0\" class=\"row_heading level0 row0\" >0</th>\n",
       "      <td id=\"T_456eb_row0_col0\" class=\"data row0 col0\" >0.5287</td>\n",
       "      <td id=\"T_456eb_row0_col1\" class=\"data row0 col1\" >0.5099</td>\n",
       "      <td id=\"T_456eb_row0_col2\" class=\"data row0 col2\" >0.5814</td>\n",
       "      <td id=\"T_456eb_row0_col3\" class=\"data row0 col3\" >0.5051</td>\n",
       "      <td id=\"T_456eb_row0_col4\" class=\"data row0 col4\" >0.5405</td>\n",
       "      <td id=\"T_456eb_row0_col5\" class=\"data row0 col5\" >0.0615</td>\n",
       "      <td id=\"T_456eb_row0_col6\" class=\"data row0 col6\" >0.0622</td>\n",
       "    </tr>\n",
       "    <tr>\n",
       "      <th id=\"T_456eb_level0_row1\" class=\"row_heading level0 row1\" >1</th>\n",
       "      <td id=\"T_456eb_row1_col0\" class=\"data row1 col0\" >0.5330</td>\n",
       "      <td id=\"T_456eb_row1_col1\" class=\"data row1 col1\" >0.5087</td>\n",
       "      <td id=\"T_456eb_row1_col2\" class=\"data row1 col2\" >0.6072</td>\n",
       "      <td id=\"T_456eb_row1_col3\" class=\"data row1 col3\" >0.5087</td>\n",
       "      <td id=\"T_456eb_row1_col4\" class=\"data row1 col4\" >0.5536</td>\n",
       "      <td id=\"T_456eb_row1_col5\" class=\"data row1 col5\" >0.0719</td>\n",
       "      <td id=\"T_456eb_row1_col6\" class=\"data row1 col6\" >0.0731</td>\n",
       "    </tr>\n",
       "    <tr>\n",
       "      <th id=\"T_456eb_level0_row2\" class=\"row_heading level0 row2\" >2</th>\n",
       "      <td id=\"T_456eb_row2_col0\" class=\"data row2 col0\" >0.5416</td>\n",
       "      <td id=\"T_456eb_row2_col1\" class=\"data row2 col1\" >0.5224</td>\n",
       "      <td id=\"T_456eb_row2_col2\" class=\"data row2 col2\" >0.5871</td>\n",
       "      <td id=\"T_456eb_row2_col3\" class=\"data row2 col3\" >0.5176</td>\n",
       "      <td id=\"T_456eb_row2_col4\" class=\"data row2 col4\" >0.5502</td>\n",
       "      <td id=\"T_456eb_row2_col5\" class=\"data row2 col5\" >0.0866</td>\n",
       "      <td id=\"T_456eb_row2_col6\" class=\"data row2 col6\" >0.0873</td>\n",
       "    </tr>\n",
       "    <tr>\n",
       "      <th id=\"T_456eb_level0_row3\" class=\"row_heading level0 row3\" >3</th>\n",
       "      <td id=\"T_456eb_row3_col0\" class=\"data row3 col0\" >0.5237</td>\n",
       "      <td id=\"T_456eb_row3_col1\" class=\"data row3 col1\" >0.5039</td>\n",
       "      <td id=\"T_456eb_row3_col2\" class=\"data row3 col2\" >0.6103</td>\n",
       "      <td id=\"T_456eb_row3_col3\" class=\"data row3 col3\" >0.5011</td>\n",
       "      <td id=\"T_456eb_row3_col4\" class=\"data row3 col4\" >0.5503</td>\n",
       "      <td id=\"T_456eb_row3_col5\" class=\"data row3 col5\" >0.0544</td>\n",
       "      <td id=\"T_456eb_row3_col6\" class=\"data row3 col6\" >0.0556</td>\n",
       "    </tr>\n",
       "    <tr>\n",
       "      <th id=\"T_456eb_level0_row4\" class=\"row_heading level0 row4\" >4</th>\n",
       "      <td id=\"T_456eb_row4_col0\" class=\"data row4 col0\" >0.5638</td>\n",
       "      <td id=\"T_456eb_row4_col1\" class=\"data row4 col1\" >0.5415</td>\n",
       "      <td id=\"T_456eb_row4_col2\" class=\"data row4 col2\" >0.6065</td>\n",
       "      <td id=\"T_456eb_row4_col3\" class=\"data row4 col3\" >0.5384</td>\n",
       "      <td id=\"T_456eb_row4_col4\" class=\"data row4 col4\" >0.5704</td>\n",
       "      <td id=\"T_456eb_row4_col5\" class=\"data row4 col5\" >0.1305</td>\n",
       "      <td id=\"T_456eb_row4_col6\" class=\"data row4 col6\" >0.1315</td>\n",
       "    </tr>\n",
       "    <tr>\n",
       "      <th id=\"T_456eb_level0_row5\" class=\"row_heading level0 row5\" >5</th>\n",
       "      <td id=\"T_456eb_row5_col0\" class=\"data row5 col0\" >0.5484</td>\n",
       "      <td id=\"T_456eb_row5_col1\" class=\"data row5 col1\" >0.5405</td>\n",
       "      <td id=\"T_456eb_row5_col2\" class=\"data row5 col2\" >0.5845</td>\n",
       "      <td id=\"T_456eb_row5_col3\" class=\"data row5 col3\" >0.5243</td>\n",
       "      <td id=\"T_456eb_row5_col4\" class=\"data row5 col4\" >0.5528</td>\n",
       "      <td id=\"T_456eb_row5_col5\" class=\"data row5 col5\" >0.0994</td>\n",
       "      <td id=\"T_456eb_row5_col6\" class=\"data row5 col6\" >0.1000</td>\n",
       "    </tr>\n",
       "    <tr>\n",
       "      <th id=\"T_456eb_level0_row6\" class=\"row_heading level0 row6\" >6</th>\n",
       "      <td id=\"T_456eb_row6_col0\" class=\"data row6 col0\" >0.5250</td>\n",
       "      <td id=\"T_456eb_row6_col1\" class=\"data row6 col1\" >0.5126</td>\n",
       "      <td id=\"T_456eb_row6_col2\" class=\"data row6 col2\" >0.5948</td>\n",
       "      <td id=\"T_456eb_row6_col3\" class=\"data row6 col3\" >0.5022</td>\n",
       "      <td id=\"T_456eb_row6_col4\" class=\"data row6 col4\" >0.5446</td>\n",
       "      <td id=\"T_456eb_row6_col5\" class=\"data row6 col5\" >0.0555</td>\n",
       "      <td id=\"T_456eb_row6_col6\" class=\"data row6 col6\" >0.0564</td>\n",
       "    </tr>\n",
       "    <tr>\n",
       "      <th id=\"T_456eb_level0_row7\" class=\"row_heading level0 row7\" >7</th>\n",
       "      <td id=\"T_456eb_row7_col0\" class=\"data row7 col0\" >0.5200</td>\n",
       "      <td id=\"T_456eb_row7_col1\" class=\"data row7 col1\" >0.4990</td>\n",
       "      <td id=\"T_456eb_row7_col2\" class=\"data row7 col2\" >0.5794</td>\n",
       "      <td id=\"T_456eb_row7_col3\" class=\"data row7 col3\" >0.4978</td>\n",
       "      <td id=\"T_456eb_row7_col4\" class=\"data row7 col4\" >0.5355</td>\n",
       "      <td id=\"T_456eb_row7_col5\" class=\"data row7 col5\" >0.0448</td>\n",
       "      <td id=\"T_456eb_row7_col6\" class=\"data row7 col6\" >0.0454</td>\n",
       "    </tr>\n",
       "    <tr>\n",
       "      <th id=\"T_456eb_level0_row8\" class=\"row_heading level0 row8\" >8</th>\n",
       "      <td id=\"T_456eb_row8_col0\" class=\"data row8 col0\" >0.5197</td>\n",
       "      <td id=\"T_456eb_row8_col1\" class=\"data row8 col1\" >0.4914</td>\n",
       "      <td id=\"T_456eb_row8_col2\" class=\"data row8 col2\" >0.5736</td>\n",
       "      <td id=\"T_456eb_row8_col3\" class=\"data row8 col3\" >0.4972</td>\n",
       "      <td id=\"T_456eb_row8_col4\" class=\"data row8 col4\" >0.5327</td>\n",
       "      <td id=\"T_456eb_row8_col5\" class=\"data row8 col5\" >0.0439</td>\n",
       "      <td id=\"T_456eb_row8_col6\" class=\"data row8 col6\" >0.0443</td>\n",
       "    </tr>\n",
       "    <tr>\n",
       "      <th id=\"T_456eb_level0_row9\" class=\"row_heading level0 row9\" >9</th>\n",
       "      <td id=\"T_456eb_row9_col0\" class=\"data row9 col0\" >0.5314</td>\n",
       "      <td id=\"T_456eb_row9_col1\" class=\"data row9 col1\" >0.5216</td>\n",
       "      <td id=\"T_456eb_row9_col2\" class=\"data row9 col2\" >0.5659</td>\n",
       "      <td id=\"T_456eb_row9_col3\" class=\"data row9 col3\" >0.5081</td>\n",
       "      <td id=\"T_456eb_row9_col4\" class=\"data row9 col4\" >0.5355</td>\n",
       "      <td id=\"T_456eb_row9_col5\" class=\"data row9 col5\" >0.0656</td>\n",
       "      <td id=\"T_456eb_row9_col6\" class=\"data row9 col6\" >0.0660</td>\n",
       "    </tr>\n",
       "    <tr>\n",
       "      <th id=\"T_456eb_level0_row10\" class=\"row_heading level0 row10\" >Mean</th>\n",
       "      <td id=\"T_456eb_row10_col0\" class=\"data row10 col0\" >0.5335</td>\n",
       "      <td id=\"T_456eb_row10_col1\" class=\"data row10 col1\" >0.5152</td>\n",
       "      <td id=\"T_456eb_row10_col2\" class=\"data row10 col2\" >0.5891</td>\n",
       "      <td id=\"T_456eb_row10_col3\" class=\"data row10 col3\" >0.5100</td>\n",
       "      <td id=\"T_456eb_row10_col4\" class=\"data row10 col4\" >0.5466</td>\n",
       "      <td id=\"T_456eb_row10_col5\" class=\"data row10 col5\" >0.0714</td>\n",
       "      <td id=\"T_456eb_row10_col6\" class=\"data row10 col6\" >0.0722</td>\n",
       "    </tr>\n",
       "    <tr>\n",
       "      <th id=\"T_456eb_level0_row11\" class=\"row_heading level0 row11\" >Std</th>\n",
       "      <td id=\"T_456eb_row11_col0\" class=\"data row11 col0\" >0.0133</td>\n",
       "      <td id=\"T_456eb_row11_col1\" class=\"data row11 col1\" >0.0157</td>\n",
       "      <td id=\"T_456eb_row11_col2\" class=\"data row11 col2\" >0.0144</td>\n",
       "      <td id=\"T_456eb_row11_col3\" class=\"data row11 col3\" >0.0125</td>\n",
       "      <td id=\"T_456eb_row11_col4\" class=\"data row11 col4\" >0.0108</td>\n",
       "      <td id=\"T_456eb_row11_col5\" class=\"data row11 col5\" >0.0258</td>\n",
       "      <td id=\"T_456eb_row11_col6\" class=\"data row11 col6\" >0.0258</td>\n",
       "    </tr>\n",
       "  </tbody>\n",
       "</table>\n"
      ],
      "text/plain": [
       "<pandas.io.formats.style.Styler at 0x1ab89440cd0>"
      ]
     },
     "metadata": {},
     "output_type": "display_data"
    },
    {
     "data": {
      "text/html": [],
      "text/plain": [
       "<IPython.core.display.HTML object>"
      ]
     },
     "metadata": {},
     "output_type": "display_data"
    }
   ],
   "source": [
    "lr_model = pc.create_model(\"lr\")\n",
    "dt_model = pc.create_model(\"dt\")"
   ]
  },
  {
   "cell_type": "code",
   "execution_count": 12,
   "metadata": {},
   "outputs": [
    {
     "data": {
      "text/html": [
       "<style type=\"text/css\">\n",
       "</style>\n",
       "<table id=\"T_75670\">\n",
       "  <thead>\n",
       "    <tr>\n",
       "      <th class=\"blank level0\" >&nbsp;</th>\n",
       "      <th id=\"T_75670_level0_col0\" class=\"col_heading level0 col0\" >Model</th>\n",
       "      <th id=\"T_75670_level0_col1\" class=\"col_heading level0 col1\" >Accuracy</th>\n",
       "      <th id=\"T_75670_level0_col2\" class=\"col_heading level0 col2\" >AUC</th>\n",
       "      <th id=\"T_75670_level0_col3\" class=\"col_heading level0 col3\" >Recall</th>\n",
       "      <th id=\"T_75670_level0_col4\" class=\"col_heading level0 col4\" >Prec.</th>\n",
       "      <th id=\"T_75670_level0_col5\" class=\"col_heading level0 col5\" >F1</th>\n",
       "      <th id=\"T_75670_level0_col6\" class=\"col_heading level0 col6\" >Kappa</th>\n",
       "      <th id=\"T_75670_level0_col7\" class=\"col_heading level0 col7\" >MCC</th>\n",
       "    </tr>\n",
       "  </thead>\n",
       "  <tbody>\n",
       "    <tr>\n",
       "      <th id=\"T_75670_level0_row0\" class=\"row_heading level0 row0\" >0</th>\n",
       "      <td id=\"T_75670_row0_col0\" class=\"data row0 col0\" >Logistic Regression</td>\n",
       "      <td id=\"T_75670_row0_col1\" class=\"data row0 col1\" >0.5716</td>\n",
       "      <td id=\"T_75670_row0_col2\" class=\"data row0 col2\" >0.5945</td>\n",
       "      <td id=\"T_75670_row0_col3\" class=\"data row0 col3\" >0.4724</td>\n",
       "      <td id=\"T_75670_row0_col4\" class=\"data row0 col4\" >0.5610</td>\n",
       "      <td id=\"T_75670_row0_col5\" class=\"data row0 col5\" >0.5129</td>\n",
       "      <td id=\"T_75670_row0_col6\" class=\"data row0 col6\" >0.1356</td>\n",
       "      <td id=\"T_75670_row0_col7\" class=\"data row0 col7\" >0.1372</td>\n",
       "    </tr>\n",
       "  </tbody>\n",
       "</table>\n"
      ],
      "text/plain": [
       "<pandas.io.formats.style.Styler at 0x1ab88eede10>"
      ]
     },
     "metadata": {},
     "output_type": "display_data"
    }
   ],
   "source": [
    "lr_prediction = pc.predict_model(lr_model, data=df_test)\n",
    "lr_log_loss = log_loss(df_test[\"shot_made_flag\"], lr_prediction[\"prediction_score\"])"
   ]
  },
  {
   "cell_type": "code",
   "execution_count": 14,
   "metadata": {},
   "outputs": [
    {
     "data": {
      "text/html": [
       "<style type=\"text/css\">\n",
       "</style>\n",
       "<table id=\"T_87cb4\">\n",
       "  <thead>\n",
       "    <tr>\n",
       "      <th class=\"blank level0\" >&nbsp;</th>\n",
       "      <th id=\"T_87cb4_level0_col0\" class=\"col_heading level0 col0\" >Model</th>\n",
       "      <th id=\"T_87cb4_level0_col1\" class=\"col_heading level0 col1\" >Accuracy</th>\n",
       "      <th id=\"T_87cb4_level0_col2\" class=\"col_heading level0 col2\" >AUC</th>\n",
       "      <th id=\"T_87cb4_level0_col3\" class=\"col_heading level0 col3\" >Recall</th>\n",
       "      <th id=\"T_87cb4_level0_col4\" class=\"col_heading level0 col4\" >Prec.</th>\n",
       "      <th id=\"T_87cb4_level0_col5\" class=\"col_heading level0 col5\" >F1</th>\n",
       "      <th id=\"T_87cb4_level0_col6\" class=\"col_heading level0 col6\" >Kappa</th>\n",
       "      <th id=\"T_87cb4_level0_col7\" class=\"col_heading level0 col7\" >MCC</th>\n",
       "    </tr>\n",
       "  </thead>\n",
       "  <tbody>\n",
       "    <tr>\n",
       "      <th id=\"T_87cb4_level0_row0\" class=\"row_heading level0 row0\" >0</th>\n",
       "      <td id=\"T_87cb4_row0_col0\" class=\"data row0 col0\" >Decision Tree Classifier</td>\n",
       "      <td id=\"T_87cb4_row0_col1\" class=\"data row0 col1\" >0.5418</td>\n",
       "      <td id=\"T_87cb4_row0_col2\" class=\"data row0 col2\" >0.5174</td>\n",
       "      <td id=\"T_87cb4_row0_col3\" class=\"data row0 col3\" >0.5901</td>\n",
       "      <td id=\"T_87cb4_row0_col4\" class=\"data row0 col4\" >0.5177</td>\n",
       "      <td id=\"T_87cb4_row0_col5\" class=\"data row0 col5\" >0.5515</td>\n",
       "      <td id=\"T_87cb4_row0_col6\" class=\"data row0 col6\" >0.0872</td>\n",
       "      <td id=\"T_87cb4_row0_col7\" class=\"data row0 col7\" >0.0880</td>\n",
       "    </tr>\n",
       "  </tbody>\n",
       "</table>\n"
      ],
      "text/plain": [
       "<pandas.io.formats.style.Styler at 0x1ab89442b90>"
      ]
     },
     "metadata": {},
     "output_type": "display_data"
    }
   ],
   "source": [
    "dt_prediction = pc.predict_model(dt_model, data=df_test)\n",
    "dt_log_loss = log_loss(df_test[\"shot_made_flag\"], dt_prediction[\"prediction_score\"])\n",
    "dt_f1_score = f1_score(df_test['shot_made_flag'], dt_prediction['prediction_label'].astype(int), average='binary')\n"
   ]
  },
  {
   "cell_type": "code",
   "execution_count": 16,
   "metadata": {},
   "outputs": [
    {
     "data": {
      "text/plain": [
       "<ActiveRun: >"
      ]
     },
     "execution_count": 16,
     "metadata": {},
     "output_type": "execute_result"
    }
   ],
   "source": [
    "mlflow.set_experiment(experiment_name)\n",
    "mlflow.start_run()"
   ]
  },
  {
   "cell_type": "code",
   "execution_count": 17,
   "metadata": {},
   "outputs": [],
   "source": [
    "mlflow.log_metric(\"lr_log_loss\", lr_log_loss)\n",
    "mlflow.log_metric(\"dt_log_loss\", dt_log_loss)\n",
    "mlflow.log_metric(\"dt_f1_score\", dt_f1_score)"
   ]
  },
  {
   "cell_type": "code",
   "execution_count": 25,
   "metadata": {},
   "outputs": [
    {
     "ename": "AttributeError",
     "evalue": "module 'utils' has no attribute 'plot_validation_curve'",
     "output_type": "error",
     "traceback": [
      "\u001b[1;31m---------------------------------------------------------------------------\u001b[0m",
      "\u001b[1;31mAttributeError\u001b[0m                            Traceback (most recent call last)",
      "Cell \u001b[1;32mIn[25], line 2\u001b[0m\n\u001b[0;32m      1\u001b[0m plt\u001b[38;5;241m.\u001b[39mfigure(figsize\u001b[38;5;241m=\u001b[39m(\u001b[38;5;241m7\u001b[39m,\u001b[38;5;241m5\u001b[39m))\n\u001b[1;32m----> 2\u001b[0m \u001b[43mutils\u001b[49m\u001b[38;5;241;43m.\u001b[39;49m\u001b[43mplot_validation_curve\u001b[49m(df_train\u001b[38;5;241m.\u001b[39mdrop(\u001b[38;5;124m'\u001b[39m\u001b[38;5;124mshot_made_flag\u001b[39m\u001b[38;5;124m'\u001b[39m, axis\u001b[38;5;241m=\u001b[39m\u001b[38;5;241m1\u001b[39m), df_train[\u001b[38;5;124m'\u001b[39m\u001b[38;5;124mshot_made_flag\u001b[39m\u001b[38;5;124m'\u001b[39m],\u001b[38;5;124m'\u001b[39m\u001b[38;5;124mC\u001b[39m\u001b[38;5;124m'\u001b[39m, {\u001b[38;5;124m'\u001b[39m\u001b[38;5;124mC\u001b[39m\u001b[38;5;124m'\u001b[39m: [\u001b[38;5;241m0.001\u001b[39m, \u001b[38;5;241m0.01\u001b[39m, \u001b[38;5;241m0.1\u001b[39m, \u001b[38;5;241m1\u001b[39m, \u001b[38;5;241m10\u001b[39m, \u001b[38;5;241m100\u001b[39m, \u001b[38;5;241m1000\u001b[39m]}, lr_model, \u001b[38;5;124m'\u001b[39m\u001b[38;5;124mRegressão Logística\u001b[39m\u001b[38;5;124m'\u001b[39m, \u001b[38;5;124m'\u001b[39m\u001b[38;5;124mf1\u001b[39m\u001b[38;5;124m'\u001b[39m,\u001b[38;5;28;01mTrue\u001b[39;00m)\n",
      "\u001b[1;31mAttributeError\u001b[0m: module 'utils' has no attribute 'plot_validation_curve'"
     ]
    },
    {
     "data": {
      "text/plain": [
       "<Figure size 700x500 with 0 Axes>"
      ]
     },
     "metadata": {},
     "output_type": "display_data"
    }
   ],
   "source": [
    "plt.figure(figsize=(7,5))\n",
    "utils.plot_validation_curve(df_train.drop('shot_made_flag', axis=1), df_train['shot_made_flag'],'C', {'C': [0.001, 0.01, 0.1, 1, 10, 100, 1000]}, lr_model, 'Regressão Logística', 'f1',True)"
   ]
  }
 ],
 "metadata": {
  "kernelspec": {
   "display_name": "Python 3",
   "language": "python",
   "name": "python3"
  },
  "language_info": {
   "codemirror_mode": {
    "name": "ipython",
    "version": 3
   },
   "file_extension": ".py",
   "mimetype": "text/x-python",
   "name": "python",
   "nbconvert_exporter": "python",
   "pygments_lexer": "ipython3",
   "version": "3.10.11"
  }
 },
 "nbformat": 4,
 "nbformat_minor": 2
}
